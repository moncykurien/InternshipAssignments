{
 "cells": [
  {
   "cell_type": "code",
   "execution_count": 1,
   "metadata": {},
   "outputs": [],
   "source": [
    "#selenium libraries\n",
    "import selenium\n",
    "from selenium import webdriver\n",
    "from selenium.webdriver.common.keys import Keys\n",
    "from selenium.common.exceptions import NoSuchElementException, StaleElementReferenceException, ElementNotInteractableException\n",
    "\n",
    "import time\n",
    "import pandas as pd\n",
    "import re\n",
    "\n",
    "from configparser import ConfigParser"
   ]
  },
  {
   "cell_type": "code",
   "execution_count": 2,
   "metadata": {},
   "outputs": [],
   "source": [
    "def get_drive_launch(url):\n",
    "    \"\"\"\n",
    "    This function initiates the Chrome browser's driver with the url passed as a parameter and returns the driver instance.\n",
    "    Parameters:\n",
    "        url - url of the website\n",
    "    return:\n",
    "        driver - driver instance of the chrome browser    \n",
    "    \"\"\"\n",
    "    #creating driver instance\n",
    "    driver = webdriver.Chrome('./driver/chromedriver.exe')\n",
    "    driver.maximize_window()\n",
    "    \n",
    "    #defining implicit wait\n",
    "    driver.implicitly_wait(10)\n",
    "    \n",
    "    #launching the url\n",
    "    driver.get(url)\n",
    "    \n",
    "    return driver"
   ]
  },
  {
   "cell_type": "code",
   "execution_count": 4,
   "metadata": {},
   "outputs": [],
   "source": [
    "d = get_drive_launch(\"https://images.google.com/\")\n",
    "\n",
    "d.find_element_by_xpath(\"//input[@title='Search']\").send_keys(\"fruits\")\n",
    "d.find_element_by_xpath(\"//button[@type='submit']\").click()"
   ]
  },
  {
   "cell_type": "markdown",
   "metadata": {},
   "source": [
    "## 5. Write a program to scrap geospatial coordinates (latitude, longitude) of a city searched on google maps."
   ]
  },
  {
   "cell_type": "code",
   "execution_count": 53,
   "metadata": {},
   "outputs": [],
   "source": [
    "from selenium.webdriver.common.by import By\n",
    "from selenium.webdriver.support.ui import WebDriverWait\n",
    "from selenium.webdriver.support import expected_conditions as EC"
   ]
  },
  {
   "cell_type": "code",
   "execution_count": 55,
   "metadata": {},
   "outputs": [],
   "source": [
    "import requests\n",
    "import urllib.parse"
   ]
  },
  {
   "cell_type": "code",
   "execution_count": 60,
   "metadata": {},
   "outputs": [],
   "source": [
    "def get_long_lat_gmap_for(city):\n",
    "    dr = get_drive_launch(\"https://www.google.com/maps\")\n",
    "\n",
    "    dr.find_element_by_id(\"searchboxinput\").send_keys(city)\n",
    "    dr.find_element_by_id(\"searchbox-searchbutton\").click()\n",
    "    try:\n",
    "        element = WebDriverWait(dr, 20).until(\n",
    "            EC.presence_of_element_located((By.XPATH, \"//button[@data-value='Directions']\"))\n",
    "        )\n",
    "    finally: \n",
    "        cur_url = dr.current_url\n",
    "\n",
    "    cur_url = cur_url.split('@')[1].split(',')\n",
    "    return \"Longitude: \"+cur_url[0],\"Latitude: \"+cur_url[1]"
   ]
  },
  {
   "cell_type": "code",
   "execution_count": 61,
   "metadata": {},
   "outputs": [],
   "source": [
    "def get_longitude_latitude_for(city):\n",
    "    url = f'https://nominatim.openstreetmap.org/search/{city}?format=json'\n",
    "    response = requests.get(url).json()\n",
    "    return \"Longitude: \"+response[0][\"lat\"], \"Latitude: \"+response[0][\"lon\"]"
   ]
  },
  {
   "cell_type": "code",
   "execution_count": 65,
   "metadata": {},
   "outputs": [
    {
     "data": {
      "text/plain": [
       "('Longitude: 40.6971494', 'Latitude: -74.2598684')"
      ]
     },
     "execution_count": 65,
     "metadata": {},
     "output_type": "execute_result"
    }
   ],
   "source": [
    "get_long_lat_gmap_for('new york')"
   ]
  },
  {
   "cell_type": "code",
   "execution_count": 64,
   "metadata": {},
   "outputs": [
    {
     "data": {
      "text/plain": [
       "('Longitude: 40.7127281', 'Latitude: -74.0060152')"
      ]
     },
     "execution_count": 64,
     "metadata": {},
     "output_type": "execute_result"
    }
   ],
   "source": [
    "get_longitude_latitude_for('new york')"
   ]
  },
  {
   "cell_type": "code",
   "execution_count": 25,
   "metadata": {},
   "outputs": [
    {
     "data": {
      "text/plain": [
       "<Response [200]>"
      ]
     },
     "execution_count": 25,
     "metadata": {},
     "output_type": "execute_result"
    }
   ],
   "source": [
    "url = 'https://www.google.com/maps/place/Chennai'\n",
    "response = requests.get(url)\n",
    "response"
   ]
  },
  {
   "cell_type": "code",
   "execution_count": null,
   "metadata": {},
   "outputs": [],
   "source": []
  }
 ],
 "metadata": {
  "kernelspec": {
   "display_name": "Python 3",
   "language": "python",
   "name": "python3"
  },
  "language_info": {
   "codemirror_mode": {
    "name": "ipython",
    "version": 3
   },
   "file_extension": ".py",
   "mimetype": "text/x-python",
   "name": "python",
   "nbconvert_exporter": "python",
   "pygments_lexer": "ipython3",
   "version": "3.7.6"
  }
 },
 "nbformat": 4,
 "nbformat_minor": 4
}
