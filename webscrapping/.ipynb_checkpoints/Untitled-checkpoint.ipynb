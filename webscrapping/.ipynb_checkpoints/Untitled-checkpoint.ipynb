{
 "cells": [
  {
   "cell_type": "code",
   "execution_count": null,
   "metadata": {},
   "outputs": [],
   "source": [
    "#selenium libraries\n",
    "import selenium\n",
    "from selenium import webdriver\n",
    "from selenium.webdriver.common.keys import Keys\n",
    "from selenium.common.exceptions import NoSuchElementException, StaleElementReferenceException, ElementNotInteractableException\n",
    "\n",
    "import time\n",
    "import pandas as pd\n",
    "import re\n",
    "\n",
    "from configparser import ConfigParser"
   ]
  },
  {
   "cell_type": "code",
   "execution_count": null,
   "metadata": {},
   "outputs": [],
   "source": [
    "def get_drive_launch(url):\n",
    "    \"\"\"\n",
    "    This function initiates the Chrome browser's driver with the url passed as a parameter and returns the driver instance.\n",
    "    Parameters:\n",
    "        url - url of the website\n",
    "    return:\n",
    "        driver - driver instance of the chrome browser    \n",
    "    \"\"\"\n",
    "    #creating driver instance\n",
    "    driver = webdriver.Chrome('./driver/chromedriver.exe')\n",
    "    driver.maximize_window()\n",
    "    \n",
    "    #defining implicit wait\n",
    "    driver.implicitly_wait(10)\n",
    "    \n",
    "    #launching the url\n",
    "    driver.get(url)\n",
    "    \n",
    "    return driver"
   ]
  },
  {
   "cell_type": "code",
   "execution_count": null,
   "metadata": {},
   "outputs": [],
   "source": []
  },
  {
   "cell_type": "code",
   "execution_count": null,
   "metadata": {},
   "outputs": [],
   "source": [
    "#pip install eventlet"
   ]
  },
  {
   "cell_type": "code",
   "execution_count": null,
   "metadata": {},
   "outputs": [],
   "source": [
    "import requests\n",
    "import os\n",
    "import shutil\n",
    "\n"
   ]
  },
  {
   "cell_type": "code",
   "execution_count": null,
   "metadata": {},
   "outputs": [],
   "source": [
    "def download_images(folder_name, file_name, img_urls):\n",
    "    img_urls = img_urls\n",
    "    DIR = folder_name\n",
    "    \n",
    "    if not os.path.exists(DIR):\n",
    "                os.mkdir(DIR)\n",
    "    DIR = os.path.join(DIR, file_name)\n",
    "\n",
    "    if not os.path.exists(DIR):\n",
    "                os.mkdir(DIR)\n",
    "\n",
    "    elif os.path.exists(DIR):\n",
    "        folder = DIR\n",
    "        for filename in os.listdir(folder):\n",
    "            file_path = os.path.join(folder, filename)\n",
    "            try:\n",
    "                if os.path.isfile(file_path) or os.path.islink(file_path):\n",
    "                    os.unlink(file_path)\n",
    "                elif os.path.isdir(file_path):\n",
    "                    shutil.rmtree(file_path)\n",
    "            except Exception as e:\n",
    "                print('Failed to delete %s. Reason: %s' % (file_path, e))\n",
    "\n",
    "                ###print images\n",
    "    for i ,img in enumerate(img_urls):\n",
    "        try:\n",
    "            print(f\"Requesting for {i} - {img}\")\n",
    "            r = requests.get(img, stream = True, timeout = 60)\n",
    "            print(r.status_code)\n",
    "            # Check if the image was retrieved successfully\n",
    "            if r.status_code == 200:\n",
    "                # Set decode_content value to True, otherwise the downloaded image file's size will be zero.\n",
    "                r.raw.decode_content = True\n",
    "                print(f\"Downloading image number {i}\")\n",
    "                # Open a local file with wb ( write binary ) permission.\n",
    "                with open(DIR+'\\\\'+file_name+'_'+str(i)+'.jpg','wb') as f:\n",
    "                    shutil.copyfileobj(r.raw, f)\n",
    "\n",
    "                print(f'Image sucessfully Downloaded: {DIR}\\\\{file_name}_{str(i)}.jpg')\n",
    "            else:\n",
    "                print(\"Image Could not be retreived\")\n",
    "        except Exception as e:\n",
    "            print(\"Image Could not be retreived: \", str(e))\n",
    "        "
   ]
  },
  {
   "cell_type": "code",
   "execution_count": null,
   "metadata": {},
   "outputs": [],
   "source": [
    "def download_google_images(search_keywords = [], num_images = 10):\n",
    "    for search_key in search_keywords:\n",
    "        d = get_drive_launch(\"https://images.google.com/\")\n",
    "        img_urls = []\n",
    "\n",
    "        d.find_element_by_xpath(\"//input[@title='Search']\").send_keys(search_key)\n",
    "        d.find_element_by_xpath(\"//button[@type='submit']\").click()\n",
    "\n",
    "        while len(img_urls) < num_images:\n",
    "            for i in range(5):\n",
    "                d.execute_script(\"window.scrollTo(0,document.body.scrollHeight)\")\n",
    "                time.sleep(2)\n",
    "            img_elmns = d.find_elements_by_xpath(\"//div[@class='isv-r PNCib MSM1fd BUooTd']\")\n",
    "            time.sleep(1)\n",
    "            for img_elmn in img_elmns:\n",
    "                img_elmn.click()\n",
    "                time.sleep(5)\n",
    "                img_url = d.find_element_by_xpath(\"//a[@rlhc='1']/img[@class='n3VNCb']\").get_attribute('src')\n",
    "                if 'http' in img_url and 'jpg' in img_url:\n",
    "                    img_urls.append(d.find_element_by_xpath(\"//a[@rlhc='1']/img[@class='n3VNCb']\").get_attribute('src'))\n",
    "                if len(img_urls) >= num_images:\n",
    "                    print(\"Breaking in If\")\n",
    "                    break\n",
    "        download_images(\"images\", search_key, img_urls)\n",
    "        img_urls.clear()\n",
    "        d.quit()"
   ]
  },
  {
   "cell_type": "code",
   "execution_count": null,
   "metadata": {},
   "outputs": [],
   "source": [
    "search_keys = ['cars']\n",
    "download_google_images(search_keys)"
   ]
  },
  {
   "cell_type": "code",
   "execution_count": null,
   "metadata": {},
   "outputs": [],
   "source": []
  },
  {
   "cell_type": "markdown",
   "metadata": {},
   "source": [
    "## 5. Write a program to scrap geospatial coordinates (latitude, longitude) of a city searched on google maps."
   ]
  },
  {
   "cell_type": "code",
   "execution_count": null,
   "metadata": {},
   "outputs": [],
   "source": [
    "from selenium.webdriver.common.by import By\n",
    "from selenium.webdriver.support.ui import WebDriverWait\n",
    "from selenium.webdriver.support import expected_conditions as EC"
   ]
  },
  {
   "cell_type": "code",
   "execution_count": null,
   "metadata": {},
   "outputs": [],
   "source": [
    "import requests\n",
    "import urllib.parse"
   ]
  },
  {
   "cell_type": "code",
   "execution_count": null,
   "metadata": {},
   "outputs": [],
   "source": [
    "def get_long_lat_gmap_for(city):\n",
    "    dr = get_drive_launch(\"https://www.google.com/maps\")\n",
    "\n",
    "    dr.find_element_by_id(\"searchboxinput\").send_keys(city)\n",
    "    dr.find_element_by_id(\"searchbox-searchbutton\").click()\n",
    "    try:\n",
    "        element = WebDriverWait(dr, 20).until(\n",
    "            EC.presence_of_element_located((By.XPATH, \"//button[@data-value='Directions']\"))\n",
    "        )\n",
    "    finally: \n",
    "        cur_url = dr.current_url\n",
    "\n",
    "    cur_url = cur_url.split('@')[1].split(',')\n",
    "    return \"Longitude: \"+cur_url[0],\"Latitude: \"+cur_url[1]"
   ]
  },
  {
   "cell_type": "code",
   "execution_count": null,
   "metadata": {},
   "outputs": [],
   "source": [
    "def get_longitude_latitude_for(city):\n",
    "    url = f'https://nominatim.openstreetmap.org/search/{city}?format=json'\n",
    "    response = requests.get(url).json()\n",
    "    return \"Longitude: \"+response[0][\"lat\"], \"Latitude: \"+response[0][\"lon\"]"
   ]
  },
  {
   "cell_type": "code",
   "execution_count": null,
   "metadata": {},
   "outputs": [],
   "source": [
    "get_long_lat_gmap_for('new york')"
   ]
  },
  {
   "cell_type": "code",
   "execution_count": null,
   "metadata": {},
   "outputs": [],
   "source": [
    "get_longitude_latitude_for('new york')"
   ]
  },
  {
   "cell_type": "code",
   "execution_count": null,
   "metadata": {},
   "outputs": [],
   "source": [
    "url = 'https://www.google.com/maps/place/Chennai'\n",
    "response = requests.get(url)\n",
    "response"
   ]
  },
  {
   "cell_type": "code",
   "execution_count": null,
   "metadata": {},
   "outputs": [],
   "source": []
  }
 ],
 "metadata": {
  "kernelspec": {
   "display_name": "Python 3",
   "language": "python",
   "name": "python3"
  },
  "language_info": {
   "codemirror_mode": {
    "name": "ipython",
    "version": 3
   },
   "file_extension": ".py",
   "mimetype": "text/x-python",
   "name": "python",
   "nbconvert_exporter": "python",
   "pygments_lexer": "ipython3",
   "version": "3.7.6"
  }
 },
 "nbformat": 4,
 "nbformat_minor": 4
}
